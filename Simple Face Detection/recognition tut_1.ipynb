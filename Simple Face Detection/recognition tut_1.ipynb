{
 "cells": [
  {
   "cell_type": "code",
   "execution_count": 1,
   "id": "e5cfd2b5",
   "metadata": {},
   "outputs": [],
   "source": [
    "import cv2\n",
    "import face_recognition"
   ]
  },
  {
   "cell_type": "code",
   "execution_count": 2,
   "id": "c69f0283",
   "metadata": {},
   "outputs": [],
   "source": [
    "img = cv2.imread(\"photo-1501386761578-eac5c94b800a.jfif\")"
   ]
  },
  {
   "cell_type": "code",
   "execution_count": 3,
   "id": "641de008",
   "metadata": {},
   "outputs": [],
   "source": [
    "num_faces = face_recognition.face_locations(img, number_of_times_to_upsample=5, model = \"hog\")"
   ]
  },
  {
   "cell_type": "code",
   "execution_count": 4,
   "id": "3d6e5198",
   "metadata": {},
   "outputs": [
    {
     "data": {
      "text/plain": [
       "[(230, 728, 290, 669),\n",
       " (294, 283, 380, 197),\n",
       " (323, 638, 409, 552),\n",
       " (208, 451, 258, 401),\n",
       " (352, 971, 566, 756),\n",
       " (201, 852, 243, 810),\n",
       " (133, 982, 162, 953),\n",
       " (192, 274, 233, 232),\n",
       " (148, 956, 183, 921),\n",
       " (224, 209, 283, 149),\n",
       " (49, 914, 73, 890)]"
      ]
     },
     "execution_count": 4,
     "metadata": {},
     "output_type": "execute_result"
    }
   ],
   "source": [
    "num_faces"
   ]
  },
  {
   "cell_type": "code",
   "execution_count": 5,
   "id": "456f950c",
   "metadata": {},
   "outputs": [
    {
     "name": "stdout",
     "output_type": "stream",
     "text": [
      "The number of faces recognized in this images are: 11\n"
     ]
    }
   ],
   "source": [
    "print(f\"The number of faces recognized in this images are: {len(num_faces)}\")"
   ]
  },
  {
   "cell_type": "code",
   "execution_count": 6,
   "id": "7ff5b02e",
   "metadata": {},
   "outputs": [],
   "source": [
    "for index, location in enumerate(num_faces):\n",
    "    \n",
    "    top, right, bottom, left = location\n",
    "    rect = cv2.rectangle(img, (left,top), (right,bottom), (0,200,0), 2)\n",
    "    \n",
    "cv2.imshow(\"Faces\", rect)\n",
    "cv2.waitKey(0)                 \n",
    "cv2.destroyAllWindows()"
   ]
  },
  {
   "cell_type": "markdown",
   "id": "94182b7b",
   "metadata": {},
   "source": [
    "---------------"
   ]
  }
 ],
 "metadata": {
  "kernelspec": {
   "display_name": "Python 3 (ipykernel)",
   "language": "python",
   "name": "python3"
  },
  "language_info": {
   "codemirror_mode": {
    "name": "ipython",
    "version": 3
   },
   "file_extension": ".py",
   "mimetype": "text/x-python",
   "name": "python",
   "nbconvert_exporter": "python",
   "pygments_lexer": "ipython3",
   "version": "3.9.7"
  }
 },
 "nbformat": 4,
 "nbformat_minor": 5
}
