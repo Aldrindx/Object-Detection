{
 "cells": [
  {
   "cell_type": "code",
   "execution_count": 1,
   "metadata": {},
   "outputs": [],
   "source": [
    "import numpy as np\n",
    "import cv2"
   ]
  },
  {
   "cell_type": "code",
   "execution_count": 2,
   "metadata": {},
   "outputs": [],
   "source": [
    "img = cv2.imread('scene4.jpg')\n",
    "\n",
    "img_height = img.shape[0]\n",
    "img_width = img.shape[1]\n",
    "\n",
    "img_resize = cv2.resize(img,(300,300))     # caffe model input shape is 300x300\n",
    "img_blob = cv2.dnn.blobFromImage(img_resize,0.007843,(300,300),127.5)\n",
    "#recommended scale factor is 0.007843, width,height of blob is 300,300, mean of 255 is 127.5 "
   ]
  },
  {
   "cell_type": "code",
   "execution_count": 3,
   "metadata": {},
   "outputs": [],
   "source": [
    "class_labels = [\"background\", \"aeroplane\", \"bicycle\", \"bird\", \"boat\",\"bottle\", \"bus\", \"car\", \"cat\", \"chair\",\n",
    "                \"cow\", \"diningtable\",\"dog\", \"horse\", \"motorbike\", \"person\", \"pottedplant\", \"sheep\",\"sofa\",\n",
    "                \"train\", \"tvmonitor\"]  "
   ]
  },
  {
   "cell_type": "code",
   "execution_count": 4,
   "metadata": {},
   "outputs": [],
   "source": [
    "mobilenetssd = cv2.dnn.readNetFromCaffe('mobilenetssd.prototext','mobilenetssd.caffemodel')\n",
    "mobilenetssd.setInput(img_blob)\n",
    "obj_detections = mobilenetssd.forward()   # detection predictions by the model using forward()"
   ]
  },
  {
   "cell_type": "code",
   "execution_count": 5,
   "metadata": {},
   "outputs": [
    {
     "data": {
      "text/plain": [
       "100"
      ]
     },
     "execution_count": 5,
     "metadata": {},
     "output_type": "execute_result"
    }
   ],
   "source": [
    "no_of_detections = obj_detections.shape[2]\n",
    "no_of_detections"
   ]
  },
  {
   "cell_type": "code",
   "execution_count": 6,
   "metadata": {},
   "outputs": [],
   "source": [
    "for i in np.arange(0, no_of_detections):\n",
    "    prediction_confidence = obj_detections[0, 0, i, 2]\n",
    "    \n",
    "    if prediction_confidence >= 0.30:\n",
    "    \n",
    "        predicted_class_index = int(obj_detections[0, 0, i, 1])\n",
    "        predicted_class_label = class_labels[predicted_class_index]\n",
    "        \n",
    "        #obtain the bounding box co-oridnates for actual image from resized image size\n",
    "        bounding_box = obj_detections[0, 0, i, 3:7] * np.array([img_width, img_height, img_width, img_height])\n",
    "        (start_x_pt, start_y_pt, end_x_pt, end_y_pt) = bounding_box.astype(\"int\")\n",
    "        \n",
    "        \n",
    "        predicted_class_label = \"{}: {:.2f}%\".format(class_labels[predicted_class_index], prediction_confidence * 100)\n",
    "        cv2.rectangle(img, (start_x_pt, start_y_pt), (end_x_pt, end_y_pt), (0,255,0), 2)\n",
    "        cv2.putText(img, predicted_class_label, (start_x_pt, start_y_pt-5), cv2.FONT_HERSHEY_SIMPLEX, 0.4, (0,0,255), 1)\n",
    "\n",
    "\n",
    "cv2.imshow(\"xyz\", img)\n",
    "cv2.waitKey(0)                 \n",
    "cv2.destroyAllWindows()"
   ]
  },
  {
   "cell_type": "markdown",
   "metadata": {},
   "source": [
    "---------------"
   ]
  }
 ],
 "metadata": {
  "kernelspec": {
   "display_name": "Python 3",
   "language": "python",
   "name": "python3"
  },
  "language_info": {
   "codemirror_mode": {
    "name": "ipython",
    "version": 3
   },
   "file_extension": ".py",
   "mimetype": "text/x-python",
   "name": "python",
   "nbconvert_exporter": "python",
   "pygments_lexer": "ipython3",
   "version": "3.7.6"
  }
 },
 "nbformat": 4,
 "nbformat_minor": 4
}
