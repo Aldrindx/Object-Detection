{
 "cells": [
  {
   "cell_type": "code",
   "execution_count": 1,
   "id": "6dacc4eb",
   "metadata": {},
   "outputs": [],
   "source": [
    "import cv2\n",
    "import face_recognition"
   ]
  },
  {
   "cell_type": "code",
   "execution_count": 2,
   "id": "d8e7ca3e",
   "metadata": {},
   "outputs": [],
   "source": [
    "vid = cv2.VideoCapture(0)  # 0 for webcam\n",
    "\n",
    "while True:\n",
    "    \n",
    "    success, img = vid.read()\n",
    "    num_faces = face_recognition.face_locations(img, number_of_times_to_upsample=2, model = \"hog\")\n",
    "    \n",
    "    for index, location in enumerate(num_faces):\n",
    "        top, right, bottom, left = location\n",
    "        cv2.rectangle(img, (left,top), (right,bottom), (0,0,200), 2)\n",
    "        \n",
    "    cv2.imshow(\"Faces\", img)  # should be outside for loop else won't detect non face images.\n",
    "        \n",
    "    if cv2.waitKey(1) & 0xFF == ord('q'):\n",
    "        break\n",
    "            \n",
    "vid.release()\n",
    "cv2.destroyAllWindows()  "
   ]
  },
  {
   "cell_type": "markdown",
   "id": "bd566ec3",
   "metadata": {},
   "source": [
    "-----------"
   ]
  }
 ],
 "metadata": {
  "kernelspec": {
   "display_name": "Python 3 (ipykernel)",
   "language": "python",
   "name": "python3"
  },
  "language_info": {
   "codemirror_mode": {
    "name": "ipython",
    "version": 3
   },
   "file_extension": ".py",
   "mimetype": "text/x-python",
   "name": "python",
   "nbconvert_exporter": "python",
   "pygments_lexer": "ipython3",
   "version": "3.9.7"
  }
 },
 "nbformat": 4,
 "nbformat_minor": 5
}
