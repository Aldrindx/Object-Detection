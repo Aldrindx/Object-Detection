{
 "cells": [
  {
   "cell_type": "code",
   "execution_count": 1,
   "metadata": {},
   "outputs": [],
   "source": [
    "import numpy as  np\n",
    "import cv2"
   ]
  },
  {
   "cell_type": "code",
   "execution_count": 2,
   "metadata": {},
   "outputs": [],
   "source": [
    "img = cv2.imread('test-2.webp')\n",
    "height = img.shape[0]\n",
    "width = img.shape[1]"
   ]
  },
  {
   "cell_type": "code",
   "execution_count": 3,
   "metadata": {},
   "outputs": [],
   "source": [
    "#recommended by yolo authors, scale factor is 0.003922 = 1/255.\n",
    "#accepted sizes are 320×320, 416×416, 608×608. More size means more accuracy but less speed.\n",
    "\n",
    "img_blob = cv2.dnn.blobFromImage(img, 0.003922, (320,320), swapRB=True, crop=False)"
   ]
  },
  {
   "cell_type": "code",
   "execution_count": 4,
   "metadata": {},
   "outputs": [],
   "source": [
    "class_labels = [\"person\",\"bicycle\",\"car\",\"motorcycle\",\"airplane\",\"bus\",\"train\",\"truck\",\"boat\",\"trafficlight\",\n",
    "                \"firehydrant\",\"stopsign\",\"parkingmeter\",\"bench\",\"bird\",\"cat\",\"dog\",\"horse\",\"sheep\",\"cow\",\"elephant\",\n",
    "                \"bear\",\"zebra\",\"giraffe\",\"backpack\",\"umbrella\",\"handbag\",\"tie\",\"suitcase\",\"frisbee\",\"skis\",\"snowboard\",\n",
    "                \"sportsball\",\"kite\",\"baseballbat\",\"baseballglove\",\"skateboard\",\"surfboard\",\"tennisracket\",\"bottle\",\n",
    "                \"wineglass\",\"cup\",\"fork\",\"knife\",\"spoon\",\"bowl\",\"banana\",\"apple\",\"sandwich\",\"orange\",\"broccoli\",\n",
    "                \"carrot\",\"hotdog\",\"pizza\",\"donut\",\"cake\",\"chair\",\"sofa\",\"pottedplant\",\"bed\",\"diningtable\",\"toilet\",\n",
    "                \"tvmonitor\",\"laptop\",\"mouse\",\"remote\",\"keyboard\",\"cellphone\",\"microwave\",\"oven\",\"toaster\",\"sink\",\n",
    "                \"refrigerator\",\"book\",\"clock\",\"vase\",\"scissors\",\"teddybear\",\"hairdrier\",\"toothbrush\"]"
   ]
  },
  {
   "cell_type": "code",
   "execution_count": 5,
   "metadata": {},
   "outputs": [],
   "source": [
    "# White, Red, Lime, Blue, Yellow, Cyan, Magenta, Silver, Gray, Maroon\n",
    "class_colors = [\"255,255,255\",\"255,0,0\",\"0,255,0\",\"0,0,255\",\"255,255,0\",\"0,255,255\",\"255,0,255\",\"192,192,192\",\"128,128,128\",\n",
    "               \"128,0,0\"]\n",
    "\n",
    "class_colors = [np.array(x.split(\",\")).astype(\"int\") for x in class_colors]\n",
    "class_colors = np.array(class_colors)\n",
    "class_colors = np.tile(class_colors,(8,1))     # 8x10 colors = 80 classes"
   ]
  },
  {
   "cell_type": "code",
   "execution_count": 6,
   "metadata": {},
   "outputs": [],
   "source": [
    "yolo_model = cv2.dnn.readNetFromDarknet('yolov3.cfg',\"yolov3.weights\")\n",
    "\n",
    "layers = yolo_model.getLayerNames()  # Get all layers from the yolo network\n",
    "output_layer = [layers[x - 1] for x in yolo_model.getUnconnectedOutLayers()]   # Loop and find the last layer"
   ]
  },
  {
   "cell_type": "code",
   "execution_count": 7,
   "metadata": {},
   "outputs": [],
   "source": [
    "yolo_model.setInput(img_blob)\n",
    "obj_detection_layers = yolo_model.forward(output_layer)"
   ]
  },
  {
   "cell_type": "markdown",
   "metadata": {},
   "source": [
    "- since we get multiple bounding boxed, to remove that we use--> non-max suppression(NMS)"
   ]
  },
  {
   "cell_type": "code",
   "execution_count": 8,
   "metadata": {},
   "outputs": [],
   "source": [
    "# initialization for non-max suppression(NMS),declare list for \"class id\", [box center, width & height],[confidences]\n",
    "class_ids_list = []\n",
    "boxes_list = []\n",
    "confidences_list = []"
   ]
  },
  {
   "cell_type": "code",
   "execution_count": 9,
   "metadata": {},
   "outputs": [],
   "source": [
    "for object_detection_layer in obj_detection_layers:\n",
    "\n",
    "    for object_detection in object_detection_layer:\n",
    "        \n",
    "        # obj_detections[1 to 4] => will have the two center points, box width and box height\n",
    "        # obj_detections[5] => will have scores.\n",
    "        \n",
    "        all_scores = object_detection[5:]\n",
    "        predicted_class_id = np.argmax(all_scores)\n",
    "        prediction_confidence = all_scores[predicted_class_id]\n",
    "    \n",
    "        if prediction_confidence >= 0.40:\n",
    "\n",
    "            #obtain the bounding box co-oridnates for actual image from resized image size\n",
    "            bounding_box = object_detection[0:4] * np.array([width, height, width, height])\n",
    "            (box_center_x_pt, box_center_y_pt, box_width, box_height) = bounding_box.astype(\"int\")\n",
    "            start_x_pt = int(box_center_x_pt - (box_width / 2))\n",
    "            start_y_pt = int(box_center_y_pt - (box_height / 2))\n",
    "            \n",
    "            \n",
    "            #save class id, start x, y, width & height, confidences in a list for nms processing\n",
    "            #make sure to pass confidence as float and width and height as integers\n",
    "            class_ids_list.append(predicted_class_id)\n",
    "            confidences_list.append(float(prediction_confidence))\n",
    "            boxes_list.append([start_x_pt, start_y_pt, int(box_width), int(box_height)])\n",
    "\n",
    "# Applying the NMS will return only the selected max value ids while suppressing the non maximum (weak) overlapping bounding boxes      \n",
    "# Non-Maxima Suppression confidence set as 0.5 & max_suppression threhold for NMS as 0.4\n",
    "max_value_ids = cv2.dnn.NMSBoxes(boxes_list, confidences_list, 0.5, 0.4)\n",
    "\n",
    "# loop through the final set of detections remaining after NMS and draw bounding box and write text\n",
    "for max_valueid in max_value_ids:\n",
    "    max_class_id = max_valueid\n",
    "    box = boxes_list[max_class_id]\n",
    "    start_x_pt = box[0]\n",
    "    start_y_pt = box[1]\n",
    "    box_width = box[2]\n",
    "    box_height = box[3]\n",
    "    \n",
    "    #get the predicted class id and label\n",
    "    predicted_class_id = class_ids_list[max_class_id]\n",
    "    predicted_class_label = class_labels[predicted_class_id]\n",
    "    prediction_confidence = confidences_list[max_class_id]\n",
    "\n",
    "    \n",
    "    end_x_pt = start_x_pt + box_width\n",
    "    end_y_pt = start_y_pt + box_height\n",
    "    \n",
    "    box_color = class_colors[predicted_class_id]\n",
    "    box_color = [int(c) for c in box_color]\n",
    "    \n",
    "    predicted_class_label = \"{}: {:.2f}%\".format(predicted_class_label, prediction_confidence * 100)\n",
    "    \n",
    "    cv2.rectangle(img, (start_x_pt, start_y_pt), (end_x_pt, end_y_pt), box_color, 1)\n",
    "    cv2.putText(img, predicted_class_label, (start_x_pt, start_y_pt -7), cv2.FONT_HERSHEY_SIMPLEX, 0.5, box_color, 1)\n",
    "\n",
    "\n",
    "cv2.imshow(\"xyz\", img)\n",
    "cv2.waitKey(0)                 \n",
    "cv2.destroyAllWindows()"
   ]
  },
  {
   "cell_type": "markdown",
   "metadata": {},
   "source": [
    "---------------"
   ]
  }
 ],
 "metadata": {
  "kernelspec": {
   "display_name": "Python 3",
   "language": "python",
   "name": "python3"
  },
  "language_info": {
   "codemirror_mode": {
    "name": "ipython",
    "version": 3
   },
   "file_extension": ".py",
   "mimetype": "text/x-python",
   "name": "python",
   "nbconvert_exporter": "python",
   "pygments_lexer": "ipython3",
   "version": "3.7.6"
  }
 },
 "nbformat": 4,
 "nbformat_minor": 4
}
