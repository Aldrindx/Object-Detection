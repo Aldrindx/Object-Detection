{
 "cells": [
  {
   "cell_type": "code",
   "execution_count": 1,
   "id": "9654a117",
   "metadata": {},
   "outputs": [],
   "source": [
    "import numpy as np\n",
    "import cv2\n",
    "import face_recognition"
   ]
  },
  {
   "cell_type": "code",
   "execution_count": 2,
   "id": "077e88e0",
   "metadata": {},
   "outputs": [],
   "source": [
    "output_image = cv2.imread(\"trump-modi-unknown.jpg\")"
   ]
  },
  {
   "cell_type": "code",
   "execution_count": null,
   "id": "7fea0c3f",
   "metadata": {},
   "outputs": [],
   "source": [
    "test_img = face_recognition.load_image_file(\"trump-modi-unknown.jpg\")"
   ]
  },
  {
   "cell_type": "code",
   "execution_count": 3,
   "id": "567c9ba9",
   "metadata": {},
   "outputs": [],
   "source": [
    "modi = face_recognition.load_image_file(\"modi.jpg\")   # modi image will be in array form\n",
    "modi_encoding = face_recognition.face_encodings(modi)[0]   # embedding 128 features to face image\n",
    "\n",
    "trump = face_recognition.load_image_file(\"trump.jpg\")\n",
    "trump_encoding = face_recognition.face_encodings(trump)[0]"
   ]
  },
  {
   "cell_type": "code",
   "execution_count": 4,
   "id": "92d203a9",
   "metadata": {},
   "outputs": [],
   "source": [
    "encoding_faces = [modi_encoding,trump_encoding]  \n",
    "face_name = [\"Modi\", \"Trump\"]"
   ]
  },
  {
   "cell_type": "code",
   "execution_count": 6,
   "id": "a6f7a026",
   "metadata": {},
   "outputs": [],
   "source": [
    "position = face_recognition.face_locations(test_img, model = \"hog\",  number_of_times_to_upsample= 2)\n",
    "encoding = face_recognition.face_encodings(test_img, position)"
   ]
  },
  {
   "cell_type": "code",
   "execution_count": 7,
   "id": "579fc597",
   "metadata": {},
   "outputs": [],
   "source": [
    "for current_location,current_encoding in zip(position,encoding):\n",
    "    top, right, bottom, left = current_location\n",
    "    matches = face_recognition.compare_faces(encoding_faces,current_encoding)\n",
    "    \n",
    "    name = \"unknown\"\n",
    "    \n",
    "    if True in matches:\n",
    "        first_match_index = matches.index(True)\n",
    "        name = face_name[first_match_index]\n",
    "\n",
    "    cv2.rectangle(output_image, (left,top), (right,bottom), (0,0,200), 2)\n",
    "\n",
    "    font = cv2.FONT_HERSHEY_DUPLEX\n",
    "    cv2.putText(output_image, name, (left,bottom + 15), font, 0.5, (25,255,25),1) \n",
    "\n",
    "    cv2.imshow(\"Faces\", output_image)            \n",
    "\n",
    "cv2.waitKey(0)\n",
    "cv2.destroyAllWindows() "
   ]
  },
  {
   "cell_type": "markdown",
   "id": "bd566ec3",
   "metadata": {},
   "source": [
    "-----------"
   ]
  }
 ],
 "metadata": {
  "kernelspec": {
   "display_name": "Python 3 (ipykernel)",
   "language": "python",
   "name": "python3"
  },
  "language_info": {
   "codemirror_mode": {
    "name": "ipython",
    "version": 3
   },
   "file_extension": ".py",
   "mimetype": "text/x-python",
   "name": "python",
   "nbconvert_exporter": "python",
   "pygments_lexer": "ipython3",
   "version": "3.9.7"
  }
 },
 "nbformat": 4,
 "nbformat_minor": 5
}
