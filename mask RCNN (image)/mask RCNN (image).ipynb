{
 "cells": [
  {
   "cell_type": "code",
   "execution_count": 1,
   "metadata": {},
   "outputs": [],
   "source": [
    "import numpy as np\n",
    "import cv2\n",
    "import random"
   ]
  },
  {
   "cell_type": "code",
   "execution_count": 2,
   "metadata": {},
   "outputs": [],
   "source": [
    "img = cv2.imread('scene6.jpg')\n",
    "height = img.shape[0]\n",
    "width = img.shape[1]"
   ]
  },
  {
   "cell_type": "code",
   "execution_count": 3,
   "metadata": {},
   "outputs": [],
   "source": [
    "img_blob = cv2.dnn.blobFromImage(img, swapRB=True, crop=False)   # swapRB Because --> convert BGR to RGB"
   ]
  },
  {
   "cell_type": "code",
   "execution_count": 4,
   "metadata": {},
   "outputs": [],
   "source": [
    "class_labels = [\"person\",\"bicycle\",\"car\",\"motorbike\",\"aeroplane\",\"bus\",\"train\",\"truck\",\"boat\",\"traffic light\",\n",
    "                \"fire hydrant\",\"street sign\",\"stop sign\",\"parking meter\",\"bench\",\"bird\",\"cat\",\"dog\",\"horse\",\"sheep\",\n",
    "                \"cow\",\"elephant\",\"bear\",\"zebra\",\"giraffe\",\"hat\",\"backpack\",\"umbrella\",\"shoe\",\"eye glasses\",\"handbag\",\n",
    "                \"tie\",\"suitcase\",\"frisbee\",\"skis\",\"snowboard\",\"sports ball\",\"kite\",\"baseball bat\",\"baseball glove\",\n",
    "                \"skateboard\",\"surfboard\",\"tennis racket\",\"bottle\",\"plate\",\"wine glass\",\"cup\",\"fork\",\"knife\",\"spoon\",\n",
    "                \"bowl\",\"banana\",\"apple\",\"sandwich\",\"orange\",\"broccoli\",\"carrot\",\"hot dog\",\"pizza\",\"donut\",\"cake\",\n",
    "                \"chair\",\"sofa\",\"pottedplant\",\"bed\",\"mirror\",\"diningtable\",\"window\",\"desk\",\"toilet\",\"door\",\"tv\",\n",
    "                \"laptop\",\"mouse\",\"remote\",\"keyboard\",\"cell phone\",\"microwave\",\"oven\",\"toaster\",\"sink\",\"refrigerator\",\n",
    "                \"blender\",\"book\",\"clock\",\"vase\",\"scissors\",\"teddy bear\",\"hair drier\",\"toothbrush\"]"
   ]
  },
  {
   "cell_type": "code",
   "execution_count": 5,
   "metadata": {},
   "outputs": [],
   "source": [
    "# Red, Lime, Blue, Yellow, Cyan, Magenta, Silver, Gray, Maroon, Olive, Green, Purple, Teal, Navy\n",
    "class_colors = [\"255,0,0\",\"0,255,0\",\"0,0,255\",\"255,255,0\",\"0,255,255\",\"255,0,255\",\"192,192,192\",\"128,128,128\",\n",
    "               \"128,0,0\",\"128,128,0\",\"0,128,0\",\"128,0,128\",\"0,128,128\",\"0,0,128\"]\n",
    "\n",
    "class_colors = [np.array(x.split(\",\")).astype(\"int\") for x in class_colors]\n",
    "class_colors = np.array(class_colors)"
   ]
  },
  {
   "cell_type": "code",
   "execution_count": 6,
   "metadata": {},
   "outputs": [],
   "source": [
    "# Loading pretrained model from buffer model weights and buffer config files\n",
    "maskrcnn = cv2.dnn.readNetFromTensorflow('maskrcnn_buffermodel.pb','maskrcnn_bufferconfig.txt')\n",
    "maskrcnn.setInput(img_blob)"
   ]
  },
  {
   "cell_type": "code",
   "execution_count": 7,
   "metadata": {},
   "outputs": [],
   "source": [
    "(boxes,masks)  = maskrcnn.forward([\"detection_out_final\",\"detection_masks\"])\n",
    "no_of_detections = boxes.shape[2]"
   ]
  },
  {
   "cell_type": "code",
   "execution_count": 8,
   "metadata": {},
   "outputs": [],
   "source": [
    "for i in np.arange(0, no_of_detections):\n",
    "    prediction_confidence = boxes[0, 0, i, 2]\n",
    "    \n",
    "    if prediction_confidence >= 0.30:\n",
    "        \n",
    "       \n",
    "        predicted_class_index = int(boxes[0, 0, i, 1])\n",
    "        predicted_class_label = class_labels[predicted_class_index]\n",
    "        \n",
    "        bounding_box = boxes[0, 0, i, 3:7] * np.array([width, height, width, height])\n",
    "        (start_x, start_y, end_x, end_y) = bounding_box.astype(\"int\")\n",
    "        \n",
    "        bounding_box_Width = end_x - start_x\n",
    "        bounding_box_Height = end_y - start_y\n",
    "        \n",
    "        object_mask = masks[i, predicted_class_index]  # obtain the bounding mask co-ordinates\n",
    "        object_mask = cv2.resize(object_mask, (bounding_box_Width, bounding_box_Height)) # resize mask to bounding_box_Width & Height\n",
    "        \n",
    "        # minimum threshold value to convert float based mask array to binary, if true respective values will be true.\n",
    "        object_mask = (object_mask >= 0.3)\n",
    "\n",
    "        roi = img[start_y:end_y, start_x:end_x]\n",
    "        roi = roi[object_mask]  # slice the roi array based on the bounding mask\n",
    "        \n",
    "        mask_color = random.choice(class_colors) # get a random mask color from the numpy array of colors\n",
    "        \n",
    "        #add a transparent color cover to the region of interest\n",
    "        roi_transparent_cover = ((0.3 * mask_color) + (0.5 * roi)).astype(\"uint8\")\n",
    "        img[start_y:end_y, start_x:end_x][object_mask] = roi_transparent_cover\n",
    "        mask_color = [int(c) for c in mask_color] \n",
    "        \n",
    "        \n",
    "        predicted_class_label = \"{}: {:.2f}%\".format(class_labels[predicted_class_index], prediction_confidence * 100)\n",
    "        \n",
    "        cv2.rectangle(img, (start_x, start_y), (end_x, end_y), mask_color, 2)\n",
    "        cv2.putText(img, predicted_class_label, (start_x, start_y -7), cv2.FONT_HERSHEY_SIMPLEX, 0.4, (225,225,225), 1)\n",
    "\n",
    "\n",
    "cv2.imshow(\"xyz\", img)\n",
    "cv2.waitKey(0)                 \n",
    "cv2.destroyAllWindows()"
   ]
  },
  {
   "cell_type": "markdown",
   "metadata": {},
   "source": [
    "---------------------------------------------"
   ]
  }
 ],
 "metadata": {
  "kernelspec": {
   "display_name": "Python 3",
   "language": "python",
   "name": "python3"
  },
  "language_info": {
   "codemirror_mode": {
    "name": "ipython",
    "version": 3
   },
   "file_extension": ".py",
   "mimetype": "text/x-python",
   "name": "python",
   "nbconvert_exporter": "python",
   "pygments_lexer": "ipython3",
   "version": "3.7.6"
  }
 },
 "nbformat": 4,
 "nbformat_minor": 4
}
