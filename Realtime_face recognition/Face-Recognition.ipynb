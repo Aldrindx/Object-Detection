{
 "cells": [
  {
   "cell_type": "code",
   "execution_count": 1,
   "id": "9654a117",
   "metadata": {},
   "outputs": [],
   "source": [
    "import numpy as np\n",
    "import cv2\n",
    "import face_recognition"
   ]
  },
  {
   "cell_type": "code",
   "execution_count": 2,
   "id": "567c9ba9",
   "metadata": {},
   "outputs": [],
   "source": [
    "modi = face_recognition.load_image_file('modi.jpg')\n",
    "modi_encodings = face_recognition.face_encodings(modi)[0]\n",
    "\n",
    "trump = face_recognition.load_image_file('trump.jpg')\n",
    "trump_encodings = face_recognition.face_encodings(trump)[0]\n",
    "\n",
    "aldrin = face_recognition.load_image_file('Aldrin.jpg')\n",
    "aldrin_encodings = face_recognition.face_encodings(aldrin)[0]\n",
    "\n",
    "nikhil = face_recognition.load_image_file('Nikhil.jpg')\n",
    "nikhil_encodings = face_recognition.face_encodings(nikhil)[0]"
   ]
  },
  {
   "cell_type": "code",
   "execution_count": 3,
   "id": "a676317d",
   "metadata": {},
   "outputs": [],
   "source": [
    "face_encodings = [modi_encodings, trump_encodings, aldrin_encodings, nikhil_encodings]\n",
    "face_names = [\"Modi\", \"Trump\", \"Aldrin\",\"Nikhil\"]"
   ]
  },
  {
   "cell_type": "code",
   "execution_count": null,
   "id": "579fc597",
   "metadata": {},
   "outputs": [],
   "source": [
    "cam = cv2.VideoCapture(0,cv2.CAP_DSHOW)\n",
    "\n",
    "while True:\n",
    "    rec,current_frame = cam.read()\n",
    "    crop_current_frame = cv2.resize(current_frame,(0,0),fx=0.25,fy=0.25)  \n",
    "    location = face_recognition.face_locations(crop_current_frame,model = \"hog\")\n",
    "    encoding = face_recognition.face_encodings(crop_current_frame,location)\n",
    "\n",
    "    for current_location, current_encoding in zip(location,encoding):\n",
    "        top, right, bottom, left = current_location\n",
    "        \n",
    "        top = top*4\n",
    "        right = right*4\n",
    "        bottom = bottom*4\n",
    "        left = left*4\n",
    "        \n",
    "        matches = face_recognition.compare_faces(face_encodings,current_encoding)  # output -->[False,True,False]\n",
    "        name = \"Unknown\"\n",
    "    \n",
    "        if True in matches:\n",
    "            first_match_index = matches.index(True)\n",
    "            name = face_names[first_match_index]\n",
    "\n",
    "        cv2.rectangle(current_frame, (left,top), (right,bottom), (0,0,200), 2)\n",
    "\n",
    "        font = cv2.FONT_HERSHEY_DUPLEX\n",
    "        cv2.putText(current_frame, name, (left,bottom + 15), font, 0.5, (128,0,128), 1) \n",
    "\n",
    "    cv2.imshow(\"camera\",current_frame)  \n",
    "    \n",
    "    if cv2.waitKey(1) & 0xFF == ord('q'):\n",
    "        break\n",
    "\n",
    "cam.release()\n",
    "cv2.destroyAllWindows()        "
   ]
  },
  {
   "cell_type": "markdown",
   "id": "bd566ec3",
   "metadata": {},
   "source": [
    "-----------"
   ]
  },
  {
   "cell_type": "code",
   "execution_count": null,
   "id": "25e252d3",
   "metadata": {},
   "outputs": [],
   "source": []
  }
 ],
 "metadata": {
  "kernelspec": {
   "display_name": "Python 3 (ipykernel)",
   "language": "python",
   "name": "python3"
  },
  "language_info": {
   "codemirror_mode": {
    "name": "ipython",
    "version": 3
   },
   "file_extension": ".py",
   "mimetype": "text/x-python",
   "name": "python",
   "nbconvert_exporter": "python",
   "pygments_lexer": "ipython3",
   "version": "3.9.7"
  }
 },
 "nbformat": 4,
 "nbformat_minor": 5
}
