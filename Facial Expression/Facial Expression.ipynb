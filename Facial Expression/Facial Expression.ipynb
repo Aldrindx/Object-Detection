{
 "cells": [
  {
   "cell_type": "code",
   "execution_count": null,
   "id": "9654a117",
   "metadata": {},
   "outputs": [],
   "source": [
    "import numpy as np\n",
    "import cv2\n",
    "import face_recognition\n",
    "from tensorflow.keras.preprocessing import image\n",
    "from tensorflow.keras.models import model_from_json"
   ]
  },
  {
   "cell_type": "code",
   "execution_count": null,
   "id": "579fc597",
   "metadata": {},
   "outputs": [],
   "source": [
    "vid = cv2.VideoCapture(0)   # 0 for webcam\n",
    "\n",
    "#load the model and load the weights\n",
    "face_exp_model = model_from_json(open(\"facial_expression_model_structure.json\",\"r\",encoding= \"utf-8\").read())\n",
    "face_exp_model.load_weights('facial_expression_model_weights.h5')\n",
    "emotions_label = ('angry', 'disgust', 'fear', 'happy', 'sad', 'surprise', 'neutral')\n",
    "\n",
    "while True:\n",
    "    \n",
    "    success, img = vid.read()\n",
    "    num_faces = face_recognition.face_locations(img, number_of_times_to_upsample=1, model = \"hog\")\n",
    "    \n",
    "    for index, location in enumerate(num_faces):\n",
    "        top, right, bottom, left = location\n",
    "        face_image = img[top:bottom,left:right]\n",
    "        cv2.rectangle(img, (left,top), (right,bottom), (0,0,200), 2)\n",
    "        \n",
    "        face_image = cv2.cvtColor(face_image, cv2.COLOR_BGR2GRAY) \n",
    "        face_image = cv2.resize(face_image, (48, 48))\n",
    "        face_image = image.img_to_array(face_image)\n",
    "        face_image = np.expand_dims(face_image, axis = 0)\n",
    "        face_image = face_image/255  # normalize all pixels in scale of [0, 1]\n",
    "        \n",
    "        prediction = face_exp_model.predict(face_image) \n",
    "        max_index = np.argmax(prediction[0])\n",
    "        emotion_label = emotions_label[max_index]\n",
    "\n",
    "        #display the name as text in the image\n",
    "        font = cv2.FONT_HERSHEY_DUPLEX\n",
    "        cv2.putText(img, emotion_label, (left,bottom), font, 0.5, (255,255,255),1)\n",
    "        \n",
    "    cv2.imshow(\"Faces\", img)             # should be outside for loop else won't detect non face images.\n",
    "        \n",
    "    if cv2.waitKey(1) & 0xFF == ord('q'):\n",
    "        break\n",
    "            \n",
    "vid.release()\n",
    "cv2.destroyAllWindows()  "
   ]
  },
  {
   "cell_type": "markdown",
   "id": "bd566ec3",
   "metadata": {},
   "source": [
    "-----------"
   ]
  }
 ],
 "metadata": {
  "kernelspec": {
   "display_name": "Python 3 (ipykernel)",
   "language": "python",
   "name": "python3"
  },
  "language_info": {
   "codemirror_mode": {
    "name": "ipython",
    "version": 3
   },
   "file_extension": ".py",
   "mimetype": "text/x-python",
   "name": "python",
   "nbconvert_exporter": "python",
   "pygments_lexer": "ipython3",
   "version": "3.9.7"
  }
 },
 "nbformat": 4,
 "nbformat_minor": 5
}
