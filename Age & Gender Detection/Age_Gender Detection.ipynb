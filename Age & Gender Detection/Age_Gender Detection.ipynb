{
 "cells": [
  {
   "cell_type": "code",
   "execution_count": 1,
   "id": "9654a117",
   "metadata": {},
   "outputs": [],
   "source": [
    "import numpy as np\n",
    "import cv2\n",
    "import face_recognition"
   ]
  },
  {
   "cell_type": "code",
   "execution_count": 2,
   "id": "579fc597",
   "metadata": {},
   "outputs": [],
   "source": [
    "webcam = cv2.VideoCapture(0, cv2.CAP_DSHOW)    # CAP_DSHOW --> for faster frame rate\n",
    "\n",
    "\n",
    "while True:\n",
    "    boolean, img = webcam.read()\n",
    "    small_img = cv2.resize(img,(0,0),fx=0.25,fy=0.25)\n",
    "    num_faces = face_recognition.face_locations(small_img, number_of_times_to_upsample = 1, model = \"hog\")\n",
    "\n",
    "    for index, location in enumerate(num_faces):\n",
    "        top, right, bottom, left = location\n",
    "        top = top * 4\n",
    "        right = right * 4\n",
    "        bottom = bottom * 4\n",
    "        left = left * 4\n",
    "        \n",
    "        face_crop = img[top:bottom,left:right]\n",
    "        \n",
    "        mean_values = (78.4263377603, 87.7689143744, 114.895847746)  # these are constant values\n",
    "        binary_large_object = cv2.dnn.blobFromImage(face_crop, 1, (227, 227), mean_values,\n",
    "                                                    swapRB = False)\n",
    "        \n",
    "        gender_label_list = ['Male', 'Female']\n",
    "        gender_cov_net = cv2.dnn.readNet(\"gender_net.caffemodel\", \"gender_deploy.prototxt\")\n",
    "        gender_cov_net.setInput(binary_large_object)\n",
    "        gender_predictions = gender_cov_net.forward()         #get the predictions from the model\n",
    "        gender = gender_label_list[gender_predictions[0].argmax()]\n",
    "        \n",
    "        \n",
    "        age_label_list = ['(0-2)', '(4-6)', '(8-12)', '(15-20)', '(25-32)', '(38-43)', '(48-53)', '(60-100)']\n",
    "        age_cov_net = cv2.dnn.readNet(\"age_net.caffemodel\", \"age_deploy.prototxt\")\n",
    "        age_cov_net.setInput(binary_large_object)\n",
    "        age_predictions = age_cov_net.forward()\n",
    "        age = age_label_list[age_predictions[0].argmax()]\n",
    "        \n",
    "        \n",
    "        cv2.rectangle(img, (left,top), (right,bottom), (0,0,200), 2)\n",
    "\n",
    "        font = cv2.FONT_HERSHEY_DUPLEX\n",
    "        cv2.putText(img, gender+\" \"+age+\"yrs\", (left,bottom + 15), font, 0.5, (200,0,0),1) \n",
    "\n",
    "    cv2.imshow(\"Faces\", img)             # should be outside for loop else won't detect non face images.\n",
    "\n",
    "    if cv2.waitKey(1) & 0xFF == ord('q'):\n",
    "        break\n",
    "    \n",
    "webcam.release()\n",
    "cv2.destroyAllWindows() "
   ]
  },
  {
   "cell_type": "markdown",
   "id": "bd566ec3",
   "metadata": {},
   "source": [
    "-----------"
   ]
  }
 ],
 "metadata": {
  "kernelspec": {
   "display_name": "Python 3 (ipykernel)",
   "language": "python",
   "name": "python3"
  },
  "language_info": {
   "codemirror_mode": {
    "name": "ipython",
    "version": 3
   },
   "file_extension": ".py",
   "mimetype": "text/x-python",
   "name": "python",
   "nbconvert_exporter": "python",
   "pygments_lexer": "ipython3",
   "version": "3.9.7"
  }
 },
 "nbformat": 4,
 "nbformat_minor": 5
}
