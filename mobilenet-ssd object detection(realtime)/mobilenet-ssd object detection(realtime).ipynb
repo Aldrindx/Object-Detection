{
 "cells": [
  {
   "cell_type": "code",
   "execution_count": 5,
   "metadata": {},
   "outputs": [],
   "source": [
    "import numpy as  np\n",
    "import cv2"
   ]
  },
  {
   "cell_type": "code",
   "execution_count": null,
   "metadata": {},
   "outputs": [],
   "source": [
    "webcam = cv2.VideoCapture(0,cv2.CAP_DSHOW) \n",
    "\n",
    "while True:\n",
    "    ret,current_frame = webcam.read()\n",
    "    \n",
    "    img_height = current_frame.shape[0]\n",
    "    img_width = current_frame.shape[1]\n",
    "\n",
    "    img_resize = cv2.resize(current_frame,(300,300))     # In caffe model input shape is 300x300\n",
    "    img_blob = cv2.dnn.blobFromImage(img_resize,0.007843,(300,300),127.5)\n",
    "    #recommended scale factor is 0.007843, width,height of blob is 300,300, mean of 255 is 127.5 \n",
    "\n",
    "    class_labels = [\"background\", \"aeroplane\", \"bicycle\", \"bird\", \"boat\",\"bottle\", \"bus\", \"car\", \"cat\", \"chair\",\"cow\",\n",
    "                    \"diningtable\",\"dog\",\"horse\",\"motorbike\",\"person\",\"pottedplant\",\"sheep\",\"sofa\", \"train\",\"tvmonitor\"]\n",
    "    \n",
    "    mobilenetssd = cv2.dnn.readNetFromCaffe('mobilenetssd.prototext','mobilenetssd.caffemodel')\n",
    "    mobilenetssd.setInput(img_blob)\n",
    "    obj_detections = mobilenetssd.forward()   # detection predictions by the model using forward()\n",
    "    \n",
    "    no_of_detections = obj_detections.shape[2]\n",
    "            \n",
    "    for i in np.arange(0, no_of_detections):\n",
    "        prediction_confidence = obj_detections[0, 0, i, 2]\n",
    "    \n",
    "        if prediction_confidence >= 0.30:\n",
    "\n",
    "            predicted_class_index = int(obj_detections[0, 0, i, 1])\n",
    "            predicted_class_label = class_labels[predicted_class_index]\n",
    "\n",
    "            #obtain the bounding box co-oridnates for actual image from resized image size\n",
    "            bounding_box = obj_detections[0, 0, i, 3:7] * np.array([img_width, img_height, img_width, img_height])\n",
    "            (start_x_pt, start_y_pt, end_x_pt, end_y_pt) = bounding_box.astype(\"int\")\n",
    "\n",
    "\n",
    "            predicted_class_label = \"{}: {:.2f}%\".format(class_labels[predicted_class_index], prediction_confidence * 100)\n",
    "            cv2.rectangle(current_frame, (start_x_pt, start_y_pt), (end_x_pt, end_y_pt), (0,255,0), 2)\n",
    "            cv2.putText(current_frame, predicted_class_label, (start_x_pt, start_y_pt-5), cv2.FONT_HERSHEY_SIMPLEX, 0.4, (0,0,255), 1)\n",
    "\n",
    "    \n",
    "    cv2.imshow(\"xyz\", current_frame)\n",
    "    \n",
    "    if cv2.waitKey(1) & 0xFF == ord('q'):\n",
    "        break\n",
    "\n",
    "webcam.release()\n",
    "cv2.destroyAllWindows() "
   ]
  },
  {
   "cell_type": "markdown",
   "metadata": {},
   "source": [
    "--------------------------"
   ]
  }
 ],
 "metadata": {
  "kernelspec": {
   "display_name": "Python 3",
   "language": "python",
   "name": "python3"
  },
  "language_info": {
   "codemirror_mode": {
    "name": "ipython",
    "version": 3
   },
   "file_extension": ".py",
   "mimetype": "text/x-python",
   "name": "python",
   "nbconvert_exporter": "python",
   "pygments_lexer": "ipython3",
   "version": "3.7.6"
  }
 },
 "nbformat": 4,
 "nbformat_minor": 4
}
